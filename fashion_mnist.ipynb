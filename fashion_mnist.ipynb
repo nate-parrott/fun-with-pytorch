{
 "cells": [
  {
   "cell_type": "code",
   "execution_count": null,
   "metadata": {},
   "outputs": [],
   "source": [
    "import torch\n",
    "import torch.nn as nn\n",
    "import torch.utils.data as data\n",
    "import torch.nn.functional as F\n",
    "import torch.optim as optim\n",
    "from torch.autograd import Variable\n",
    "import numpy as np\n",
    "import os\n",
    "import matplotlib\n",
    "from matplotlib.pyplot import imshow\n",
    "from scipy.misc import imresize\n",
    "import visdom\n",
    "viz = visdom.Visdom()"
   ]
  },
  {
   "cell_type": "code",
   "execution_count": null,
   "metadata": {},
   "outputs": [],
   "source": []
  },
  {
   "cell_type": "code",
   "execution_count": null,
   "metadata": {},
   "outputs": [],
   "source": [
    "class FashionMNIST(data.Dataset):\n",
    "    def __init__(self, path, kind='train'):\n",
    "        labels_path = os.path.join(path, kind + '-labels-idx1-ubyte')\n",
    "        self.labels = np.frombuffer(open(labels_path, 'rb').read(), dtype=np.uint8, offset=8)\n",
    "        images_path = os.path.join(path, kind + '-images-idx3-ubyte')\n",
    "        self.images = np.frombuffer(open(images_path, 'rb').read(), dtype=np.uint8, offset=16).reshape(len(self.labels), 28, 28)\n",
    "        assert len(self.images) == len(self.labels)\n",
    "        self.class_names = ['top', 'trouser', 'pullover', 'dress', 'coat', 'sandal', 'shirt', 'sneaker', 'bag', 'boot']\n",
    "    \n",
    "    def __len__(self):\n",
    "        return len(self.labels)\n",
    "\n",
    "    def __getitem__(self, index):\n",
    "        img = self.images[index]\n",
    "        img = imresize(img, [32, 32])\n",
    "        img = np.reshape(img, [1, 32, 32])\n",
    "        return img, self.labels[index]\n",
    "\n",
    "path = 'data/fashion_mnist'\n",
    "dataset = FashionMNIST(path)\n",
    "test_dataset = FashionMNIST(path, 't10k')"
   ]
  },
  {
   "cell_type": "code",
   "execution_count": null,
   "metadata": {},
   "outputs": [],
   "source": [
    "%matplotlib inline\n",
    "\n",
    "def show(img):\n",
    "    # input: CxWxH\n",
    "    print(img.shape)\n",
    "    whc = np.transpose(img, [1,2,0])\n",
    "    rgb = np.tile(whc, [1,1,3])\n",
    "    print(rgb.shape)\n",
    "    imshow(rgb)\n",
    "\n",
    "img1, label1 = dataset[5]\n",
    "show(img1)\n",
    "print(dataset.class_names[label1])"
   ]
  },
  {
   "cell_type": "code",
   "execution_count": null,
   "metadata": {},
   "outputs": [],
   "source": [
    "class Net(nn.Module):\n",
    "    def __init__(self):\n",
    "        super(Net, self).__init__()\n",
    "        # starts off 28x28x1\n",
    "        \n",
    "        def layer(in_chans, out_chans):\n",
    "            return [\n",
    "                nn.Conv2d(in_chans, out_chans, kernel_size=3, padding=1),\n",
    "                nn.ReLU(),\n",
    "                nn.BatchNorm2d(out_chans),\n",
    "                nn.MaxPool2d(kernel_size=2, stride=2)\n",
    "            ]\n",
    "        \n",
    "        # 32x32x1 -> 16x16x32 -> 8x8x64 -> 4x4x128 -> 2x2x128\n",
    "        ops = layer(1, 32) + layer(32, 64) + layer(64, 128) + layer(128, 128)\n",
    "        self.features = nn.Sequential(*ops)\n",
    "        \n",
    "        self.classifier = nn.Sequential(\n",
    "            nn.Dropout(),\n",
    "            nn.Linear(2*2*128, 64),\n",
    "            nn.ReLU(),\n",
    "            nn.Linear(64, 10)\n",
    "        )\n",
    "    \n",
    "    def forward(self, x):\n",
    "        x = self.features(x)\n",
    "        x = x.view(x.size(0), 2*2*128)\n",
    "        x = self.classifier(x)\n",
    "        return x\n",
    "\n",
    "model = Net()"
   ]
  },
  {
   "cell_type": "code",
   "execution_count": null,
   "metadata": {},
   "outputs": [],
   "source": [
    "loader = data.DataLoader(dataset, batch_size=16, shuffle=True)\n",
    "\n",
    "optimizer = optim.Adam(model.parameters(), lr=0.001)\n",
    "\n",
    "def train(n_batches=1, print_n=20):\n",
    "    loss_viz = viz.line(X=torch.zeros((1,)), Y=torch.zeros((1,)), opts={\n",
    "        'xlabel': 'Iteration', \n",
    "        'ylabel': 'Loss',\n",
    "        'title': 'Training Loss'\n",
    "    })\n",
    "    \n",
    "    model.train()\n",
    "    for idx, (data, target) in enumerate(loader):\n",
    "        if idx > n_batches: break\n",
    "        data = Variable(data.type(torch.FloatTensor))\n",
    "        target = Variable(target.type(torch.LongTensor))\n",
    "        optimizer.zero_grad()\n",
    "        output = model(data)\n",
    "        loss = nn.CrossEntropyLoss()(output, target)\n",
    "        loss.backward()\n",
    "        optimizer.step()\n",
    "        viz.line(X=torch.ones((1,1)) * idx, Y=loss.unsqueeze(0).data, win=loss_viz, update='append')\n",
    "        if idx % print_n == 0 or idx == n_batches-1:\n",
    "            print(idx, \"loss:\", loss)\n",
    "\n",
    "train(1000)"
   ]
  },
  {
   "cell_type": "code",
   "execution_count": null,
   "metadata": {},
   "outputs": [],
   "source": [
    "test_loader = data.DataLoader(dataset, shuffle=True, batch_size=16)\n",
    "\n",
    "def accuracy():\n",
    "    model.eval()\n",
    "    correct = 0\n",
    "    total = 0\n",
    "    for idx, (data, target) in enumerate(test_loader):\n",
    "        data = Variable(data.type(torch.FloatTensor))\n",
    "        predictions = model(data).data.max(1)[1]\n",
    "        correct += predictions.eq(target.type(torch.LongTensor)).sum()\n",
    "        total += len(target)\n",
    "        if idx > 100: break\n",
    "    return correct / total\n",
    "\n",
    "print(\"Accuracy:\", accuracy())"
   ]
  },
  {
   "cell_type": "code",
   "execution_count": null,
   "metadata": {
    "collapsed": true
   },
   "outputs": [],
   "source": []
  }
 ],
 "metadata": {
  "kernelspec": {
   "display_name": "Python 3",
   "language": "python",
   "name": "python3"
  },
  "language_info": {
   "codemirror_mode": {
    "name": "ipython",
    "version": 3
   },
   "file_extension": ".py",
   "mimetype": "text/x-python",
   "name": "python",
   "nbconvert_exporter": "python",
   "pygments_lexer": "ipython3",
   "version": "3.6.1"
  }
 },
 "nbformat": 4,
 "nbformat_minor": 2
}
